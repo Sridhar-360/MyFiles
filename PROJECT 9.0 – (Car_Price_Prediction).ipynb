{
 "cells": [
  {
   "cell_type": "markdown",
   "id": "831e8f67",
   "metadata": {},
   "source": [
    "## Importing Libraries"
   ]
  },
  {
   "cell_type": "code",
   "execution_count": 4,
   "id": "a9a9e032",
   "metadata": {},
   "outputs": [],
   "source": [
    "import warnings\n",
    "warnings.filterwarnings(\"ignore\")   #To supress warnings\n",
    "\n",
    "import pandas as pd \n",
    "\n",
    "import numpy as np\n",
    "\n",
    "import matplotlib.pyplot as plt\n",
    "\n",
    "import seaborn as sns\n",
    "\n",
    "from sklearn.ensemble import RandomForestRegressor  #Bagging Process - reduces variance\n",
    "from sklearn.model_selection import RandomizedSearchCV  \n",
    "#used to find best hyper parameters not used in the program here\n",
    "\n",
    "from sklearn.ensemble import ExtraTreesRegressor  #Bagging Process - used to find best features\n",
    "from sklearn.model_selection import train_test_split # To split Data Set to Training & Testing data\n",
    "from sklearn.ensemble import ExtraTreesRegressor\n",
    "from sklearn.linear_model import LinearRegression  # to find linear regression\n",
    "##from xgboost import XGBRegressor #to find XGBoost Regression\n",
    "\n",
    "from sklearn.metrics import mean_squared_log_error  #used to evaluate regression model\n",
    "\n",
    "plt.rcParams['figure.figsize'] = [15,8]  #setting plot size"
   ]
  },
  {
   "cell_type": "code",
   "execution_count": 6,
   "id": "f87c9d43",
   "metadata": {},
   "outputs": [],
   "source": [
    "df = pd.read_csv('car_price_train.csv')   #importing data\n",
    "df_test = pd.read_csv('test.csv')"
   ]
  },
  {
   "cell_type": "code",
   "execution_count": 7,
   "id": "3f29149e",
   "metadata": {},
   "outputs": [
    {
     "data": {
      "text/html": [
       "<div>\n",
       "<style scoped>\n",
       "    .dataframe tbody tr th:only-of-type {\n",
       "        vertical-align: middle;\n",
       "    }\n",
       "\n",
       "    .dataframe tbody tr th {\n",
       "        vertical-align: top;\n",
       "    }\n",
       "\n",
       "    .dataframe thead th {\n",
       "        text-align: right;\n",
       "    }\n",
       "</style>\n",
       "<table border=\"1\" class=\"dataframe\">\n",
       "  <thead>\n",
       "    <tr style=\"text-align: right;\">\n",
       "      <th></th>\n",
       "      <th>ID</th>\n",
       "      <th>Price</th>\n",
       "      <th>Levy</th>\n",
       "      <th>Manufacturer</th>\n",
       "      <th>Model</th>\n",
       "      <th>Prod. year</th>\n",
       "      <th>Category</th>\n",
       "      <th>Leather interior</th>\n",
       "      <th>Fuel type</th>\n",
       "      <th>Engine volume</th>\n",
       "      <th>Mileage</th>\n",
       "      <th>Cylinders</th>\n",
       "      <th>Gear box type</th>\n",
       "      <th>Drive wheels</th>\n",
       "      <th>Doors</th>\n",
       "      <th>Wheel</th>\n",
       "      <th>Color</th>\n",
       "      <th>Airbags</th>\n",
       "    </tr>\n",
       "  </thead>\n",
       "  <tbody>\n",
       "    <tr>\n",
       "      <th>0</th>\n",
       "      <td>45654403</td>\n",
       "      <td>13328</td>\n",
       "      <td>1399</td>\n",
       "      <td>LEXUS</td>\n",
       "      <td>RX 450</td>\n",
       "      <td>2010</td>\n",
       "      <td>Jeep</td>\n",
       "      <td>Yes</td>\n",
       "      <td>Hybrid</td>\n",
       "      <td>3.5</td>\n",
       "      <td>186005 km</td>\n",
       "      <td>6.0</td>\n",
       "      <td>Automatic</td>\n",
       "      <td>4x4</td>\n",
       "      <td>04-May</td>\n",
       "      <td>Left wheel</td>\n",
       "      <td>Silver</td>\n",
       "      <td>12</td>\n",
       "    </tr>\n",
       "    <tr>\n",
       "      <th>1</th>\n",
       "      <td>44731507</td>\n",
       "      <td>16621</td>\n",
       "      <td>1018</td>\n",
       "      <td>CHEVROLET</td>\n",
       "      <td>Equinox</td>\n",
       "      <td>2011</td>\n",
       "      <td>Jeep</td>\n",
       "      <td>No</td>\n",
       "      <td>Petrol</td>\n",
       "      <td>3</td>\n",
       "      <td>192000 km</td>\n",
       "      <td>6.0</td>\n",
       "      <td>Tiptronic</td>\n",
       "      <td>4x4</td>\n",
       "      <td>04-May</td>\n",
       "      <td>Left wheel</td>\n",
       "      <td>Black</td>\n",
       "      <td>8</td>\n",
       "    </tr>\n",
       "    <tr>\n",
       "      <th>2</th>\n",
       "      <td>45774419</td>\n",
       "      <td>8467</td>\n",
       "      <td>-</td>\n",
       "      <td>HONDA</td>\n",
       "      <td>FIT</td>\n",
       "      <td>2006</td>\n",
       "      <td>Hatchback</td>\n",
       "      <td>No</td>\n",
       "      <td>Petrol</td>\n",
       "      <td>1.3</td>\n",
       "      <td>200000 km</td>\n",
       "      <td>4.0</td>\n",
       "      <td>Variator</td>\n",
       "      <td>Front</td>\n",
       "      <td>04-May</td>\n",
       "      <td>Right-hand drive</td>\n",
       "      <td>Black</td>\n",
       "      <td>2</td>\n",
       "    </tr>\n",
       "    <tr>\n",
       "      <th>3</th>\n",
       "      <td>45769185</td>\n",
       "      <td>3607</td>\n",
       "      <td>862</td>\n",
       "      <td>FORD</td>\n",
       "      <td>Escape</td>\n",
       "      <td>2011</td>\n",
       "      <td>Jeep</td>\n",
       "      <td>Yes</td>\n",
       "      <td>Hybrid</td>\n",
       "      <td>2.5</td>\n",
       "      <td>168966 km</td>\n",
       "      <td>4.0</td>\n",
       "      <td>Automatic</td>\n",
       "      <td>4x4</td>\n",
       "      <td>04-May</td>\n",
       "      <td>Left wheel</td>\n",
       "      <td>White</td>\n",
       "      <td>0</td>\n",
       "    </tr>\n",
       "    <tr>\n",
       "      <th>4</th>\n",
       "      <td>45809263</td>\n",
       "      <td>11726</td>\n",
       "      <td>446</td>\n",
       "      <td>HONDA</td>\n",
       "      <td>FIT</td>\n",
       "      <td>2014</td>\n",
       "      <td>Hatchback</td>\n",
       "      <td>Yes</td>\n",
       "      <td>Petrol</td>\n",
       "      <td>1.3</td>\n",
       "      <td>91901 km</td>\n",
       "      <td>4.0</td>\n",
       "      <td>Automatic</td>\n",
       "      <td>Front</td>\n",
       "      <td>04-May</td>\n",
       "      <td>Left wheel</td>\n",
       "      <td>Silver</td>\n",
       "      <td>4</td>\n",
       "    </tr>\n",
       "  </tbody>\n",
       "</table>\n",
       "</div>"
      ],
      "text/plain": [
       "         ID  Price  Levy Manufacturer    Model  Prod. year   Category  \\\n",
       "0  45654403  13328  1399        LEXUS   RX 450        2010       Jeep   \n",
       "1  44731507  16621  1018    CHEVROLET  Equinox        2011       Jeep   \n",
       "2  45774419   8467     -        HONDA      FIT        2006  Hatchback   \n",
       "3  45769185   3607   862         FORD   Escape        2011       Jeep   \n",
       "4  45809263  11726   446        HONDA      FIT        2014  Hatchback   \n",
       "\n",
       "  Leather interior Fuel type Engine volume    Mileage  Cylinders  \\\n",
       "0              Yes    Hybrid           3.5  186005 km        6.0   \n",
       "1               No    Petrol             3  192000 km        6.0   \n",
       "2               No    Petrol           1.3  200000 km        4.0   \n",
       "3              Yes    Hybrid           2.5  168966 km        4.0   \n",
       "4              Yes    Petrol           1.3   91901 km        4.0   \n",
       "\n",
       "  Gear box type Drive wheels   Doors             Wheel   Color  Airbags  \n",
       "0     Automatic          4x4  04-May        Left wheel  Silver       12  \n",
       "1     Tiptronic          4x4  04-May        Left wheel   Black        8  \n",
       "2      Variator        Front  04-May  Right-hand drive   Black        2  \n",
       "3     Automatic          4x4  04-May        Left wheel   White        0  \n",
       "4     Automatic        Front  04-May        Left wheel  Silver        4  "
      ]
     },
     "execution_count": 7,
     "metadata": {},
     "output_type": "execute_result"
    }
   ],
   "source": [
    "df.head() # first five rows if data"
   ]
  },
  {
   "cell_type": "code",
   "execution_count": 8,
   "id": "4f6759b9",
   "metadata": {},
   "outputs": [
    {
     "data": {
      "text/html": [
       "<div>\n",
       "<style scoped>\n",
       "    .dataframe tbody tr th:only-of-type {\n",
       "        vertical-align: middle;\n",
       "    }\n",
       "\n",
       "    .dataframe tbody tr th {\n",
       "        vertical-align: top;\n",
       "    }\n",
       "\n",
       "    .dataframe thead th {\n",
       "        text-align: right;\n",
       "    }\n",
       "</style>\n",
       "<table border=\"1\" class=\"dataframe\">\n",
       "  <thead>\n",
       "    <tr style=\"text-align: right;\">\n",
       "      <th></th>\n",
       "      <th>ID</th>\n",
       "      <th>Levy</th>\n",
       "      <th>Manufacturer</th>\n",
       "      <th>Model</th>\n",
       "      <th>Prod. year</th>\n",
       "      <th>Category</th>\n",
       "      <th>Leather interior</th>\n",
       "      <th>Fuel type</th>\n",
       "      <th>Engine volume</th>\n",
       "      <th>Mileage</th>\n",
       "      <th>Cylinders</th>\n",
       "      <th>Gear box type</th>\n",
       "      <th>Drive wheels</th>\n",
       "      <th>Doors</th>\n",
       "      <th>Wheel</th>\n",
       "      <th>Color</th>\n",
       "      <th>Airbags</th>\n",
       "      <th>Price</th>\n",
       "    </tr>\n",
       "  </thead>\n",
       "  <tbody>\n",
       "    <tr>\n",
       "      <th>0</th>\n",
       "      <td>44020629</td>\n",
       "      <td>-</td>\n",
       "      <td>VOLKSWAGEN</td>\n",
       "      <td>Golf</td>\n",
       "      <td>2012</td>\n",
       "      <td>Hatchback</td>\n",
       "      <td>No</td>\n",
       "      <td>Diesel</td>\n",
       "      <td>2.0 Turbo</td>\n",
       "      <td>0 km</td>\n",
       "      <td>4</td>\n",
       "      <td>Manual</td>\n",
       "      <td>Front</td>\n",
       "      <td>02-Mar</td>\n",
       "      <td>Left wheel</td>\n",
       "      <td>Grey</td>\n",
       "      <td>10</td>\n",
       "      <td>NaN</td>\n",
       "    </tr>\n",
       "    <tr>\n",
       "      <th>1</th>\n",
       "      <td>45784798</td>\n",
       "      <td>-</td>\n",
       "      <td>HYUNDAI</td>\n",
       "      <td>Sonata</td>\n",
       "      <td>2012</td>\n",
       "      <td>Sedan</td>\n",
       "      <td>Yes</td>\n",
       "      <td>Petrol</td>\n",
       "      <td>2.4</td>\n",
       "      <td>26000 km</td>\n",
       "      <td>4</td>\n",
       "      <td>Tiptronic</td>\n",
       "      <td>Front</td>\n",
       "      <td>04-May</td>\n",
       "      <td>Left wheel</td>\n",
       "      <td>Grey</td>\n",
       "      <td>10</td>\n",
       "      <td>NaN</td>\n",
       "    </tr>\n",
       "    <tr>\n",
       "      <th>2</th>\n",
       "      <td>45800257</td>\n",
       "      <td>-</td>\n",
       "      <td>NISSAN</td>\n",
       "      <td>Tiida</td>\n",
       "      <td>2005</td>\n",
       "      <td>Sedan</td>\n",
       "      <td>No</td>\n",
       "      <td>Petrol</td>\n",
       "      <td>1.5</td>\n",
       "      <td>168000 km</td>\n",
       "      <td>4</td>\n",
       "      <td>Automatic</td>\n",
       "      <td>Front</td>\n",
       "      <td>04-May</td>\n",
       "      <td>Right-hand drive</td>\n",
       "      <td>Sky blue</td>\n",
       "      <td>8</td>\n",
       "      <td>NaN</td>\n",
       "    </tr>\n",
       "    <tr>\n",
       "      <th>3</th>\n",
       "      <td>45797981</td>\n",
       "      <td>975</td>\n",
       "      <td>VOLVO</td>\n",
       "      <td>XC90</td>\n",
       "      <td>2012</td>\n",
       "      <td>Jeep</td>\n",
       "      <td>Yes</td>\n",
       "      <td>Petrol</td>\n",
       "      <td>3.2</td>\n",
       "      <td>143000 km</td>\n",
       "      <td>6</td>\n",
       "      <td>Automatic</td>\n",
       "      <td>4x4</td>\n",
       "      <td>04-May</td>\n",
       "      <td>Left wheel</td>\n",
       "      <td>Blue</td>\n",
       "      <td>12</td>\n",
       "      <td>NaN</td>\n",
       "    </tr>\n",
       "    <tr>\n",
       "      <th>4</th>\n",
       "      <td>45814303</td>\n",
       "      <td>-</td>\n",
       "      <td>OPEL</td>\n",
       "      <td>Astra</td>\n",
       "      <td>1993</td>\n",
       "      <td>Hatchback</td>\n",
       "      <td>No</td>\n",
       "      <td>Petrol</td>\n",
       "      <td>1.6</td>\n",
       "      <td>200000 km</td>\n",
       "      <td>4</td>\n",
       "      <td>Manual</td>\n",
       "      <td>Front</td>\n",
       "      <td>04-May</td>\n",
       "      <td>Left wheel</td>\n",
       "      <td>Black</td>\n",
       "      <td>0</td>\n",
       "      <td>NaN</td>\n",
       "    </tr>\n",
       "  </tbody>\n",
       "</table>\n",
       "</div>"
      ],
      "text/plain": [
       "         ID Levy Manufacturer   Model  Prod. year   Category Leather interior  \\\n",
       "0  44020629    -   VOLKSWAGEN    Golf        2012  Hatchback               No   \n",
       "1  45784798    -      HYUNDAI  Sonata        2012      Sedan              Yes   \n",
       "2  45800257    -       NISSAN   Tiida        2005      Sedan               No   \n",
       "3  45797981  975        VOLVO    XC90        2012       Jeep              Yes   \n",
       "4  45814303    -         OPEL   Astra        1993  Hatchback               No   \n",
       "\n",
       "  Fuel type Engine volume    Mileage  Cylinders Gear box type Drive wheels  \\\n",
       "0    Diesel     2.0 Turbo       0 km          4        Manual        Front   \n",
       "1    Petrol           2.4   26000 km          4     Tiptronic        Front   \n",
       "2    Petrol           1.5  168000 km          4     Automatic        Front   \n",
       "3    Petrol           3.2  143000 km          6     Automatic          4x4   \n",
       "4    Petrol           1.6  200000 km          4        Manual        Front   \n",
       "\n",
       "    Doors             Wheel     Color  Airbags  Price  \n",
       "0  02-Mar        Left wheel      Grey       10    NaN  \n",
       "1  04-May        Left wheel      Grey       10    NaN  \n",
       "2  04-May  Right-hand drive  Sky blue        8    NaN  \n",
       "3  04-May        Left wheel      Blue       12    NaN  \n",
       "4  04-May        Left wheel     Black        0    NaN  "
      ]
     },
     "execution_count": 8,
     "metadata": {},
     "output_type": "execute_result"
    }
   ],
   "source": [
    "df_test.head()"
   ]
  },
  {
   "cell_type": "code",
   "execution_count": 9,
   "id": "90b2041f",
   "metadata": {},
   "outputs": [
    {
     "data": {
      "text/plain": [
       "(19237, 18)"
      ]
     },
     "execution_count": 9,
     "metadata": {},
     "output_type": "execute_result"
    }
   ],
   "source": [
    "df.shape  # shape of data/ no of rows and columns"
   ]
  },
  {
   "cell_type": "code",
   "execution_count": 12,
   "id": "28bc357a",
   "metadata": {},
   "outputs": [],
   "source": [
    "y=df['Price']  # assigning target/ dependent variable"
   ]
  },
  {
   "cell_type": "code",
   "execution_count": 13,
   "id": "96aa20f4",
   "metadata": {},
   "outputs": [],
   "source": [
    "df = df.drop(['Price'],axis=1)  # dropping dependent variable\n",
    "df_test=df_test.drop(['Price'],axis=1)  # dropping dependent variable from test data\n",
    "df_merge = df.append(df_test)\n",
    "df_merge.reset_index(inplace=True) # resetting inex\n",
    "# can also use df_merge=df_merge.reset_index() to reset index\n",
    "df_merge= df_merge.drop(['index'],axis=1)"
   ]
  },
  {
   "cell_type": "code",
   "execution_count": 14,
   "id": "1c739542",
   "metadata": {},
   "outputs": [
    {
     "data": {
      "text/plain": [
       "(27482, 17)"
      ]
     },
     "execution_count": 14,
     "metadata": {},
     "output_type": "execute_result"
    }
   ],
   "source": [
    "df_merge.shape"
   ]
  },
  {
   "cell_type": "code",
   "execution_count": 15,
   "id": "24f8ff88",
   "metadata": {},
   "outputs": [
    {
     "data": {
      "text/html": [
       "<div>\n",
       "<style scoped>\n",
       "    .dataframe tbody tr th:only-of-type {\n",
       "        vertical-align: middle;\n",
       "    }\n",
       "\n",
       "    .dataframe tbody tr th {\n",
       "        vertical-align: top;\n",
       "    }\n",
       "\n",
       "    .dataframe thead th {\n",
       "        text-align: right;\n",
       "    }\n",
       "</style>\n",
       "<table border=\"1\" class=\"dataframe\">\n",
       "  <thead>\n",
       "    <tr style=\"text-align: right;\">\n",
       "      <th></th>\n",
       "      <th>DataTypes</th>\n",
       "      <th>Unique_values</th>\n",
       "    </tr>\n",
       "  </thead>\n",
       "  <tbody>\n",
       "    <tr>\n",
       "      <th>ID</th>\n",
       "      <td>int64</td>\n",
       "      <td>26886</td>\n",
       "    </tr>\n",
       "    <tr>\n",
       "      <th>Levy</th>\n",
       "      <td>object</td>\n",
       "      <td>635</td>\n",
       "    </tr>\n",
       "    <tr>\n",
       "      <th>Manufacturer</th>\n",
       "      <td>object</td>\n",
       "      <td>68</td>\n",
       "    </tr>\n",
       "    <tr>\n",
       "      <th>Model</th>\n",
       "      <td>object</td>\n",
       "      <td>1981</td>\n",
       "    </tr>\n",
       "    <tr>\n",
       "      <th>Prod. year</th>\n",
       "      <td>int64</td>\n",
       "      <td>59</td>\n",
       "    </tr>\n",
       "    <tr>\n",
       "      <th>Category</th>\n",
       "      <td>object</td>\n",
       "      <td>11</td>\n",
       "    </tr>\n",
       "    <tr>\n",
       "      <th>Leather interior</th>\n",
       "      <td>object</td>\n",
       "      <td>2</td>\n",
       "    </tr>\n",
       "    <tr>\n",
       "      <th>Fuel type</th>\n",
       "      <td>object</td>\n",
       "      <td>7</td>\n",
       "    </tr>\n",
       "    <tr>\n",
       "      <th>Engine volume</th>\n",
       "      <td>object</td>\n",
       "      <td>112</td>\n",
       "    </tr>\n",
       "    <tr>\n",
       "      <th>Mileage</th>\n",
       "      <td>object</td>\n",
       "      <td>9977</td>\n",
       "    </tr>\n",
       "    <tr>\n",
       "      <th>Cylinders</th>\n",
       "      <td>float64</td>\n",
       "      <td>16</td>\n",
       "    </tr>\n",
       "    <tr>\n",
       "      <th>Gear box type</th>\n",
       "      <td>object</td>\n",
       "      <td>4</td>\n",
       "    </tr>\n",
       "    <tr>\n",
       "      <th>Drive wheels</th>\n",
       "      <td>object</td>\n",
       "      <td>3</td>\n",
       "    </tr>\n",
       "    <tr>\n",
       "      <th>Doors</th>\n",
       "      <td>object</td>\n",
       "      <td>3</td>\n",
       "    </tr>\n",
       "    <tr>\n",
       "      <th>Wheel</th>\n",
       "      <td>object</td>\n",
       "      <td>2</td>\n",
       "    </tr>\n",
       "    <tr>\n",
       "      <th>Color</th>\n",
       "      <td>object</td>\n",
       "      <td>16</td>\n",
       "    </tr>\n",
       "    <tr>\n",
       "      <th>Airbags</th>\n",
       "      <td>int64</td>\n",
       "      <td>17</td>\n",
       "    </tr>\n",
       "  </tbody>\n",
       "</table>\n",
       "</div>"
      ],
      "text/plain": [
       "                 DataTypes  Unique_values\n",
       "ID                   int64          26886\n",
       "Levy                object            635\n",
       "Manufacturer        object             68\n",
       "Model               object           1981\n",
       "Prod. year           int64             59\n",
       "Category            object             11\n",
       "Leather interior    object              2\n",
       "Fuel type           object              7\n",
       "Engine volume       object            112\n",
       "Mileage             object           9977\n",
       "Cylinders          float64             16\n",
       "Gear box type       object              4\n",
       "Drive wheels        object              3\n",
       "Doors               object              3\n",
       "Wheel               object              2\n",
       "Color               object             16\n",
       "Airbags              int64             17"
      ]
     },
     "execution_count": 15,
     "metadata": {},
     "output_type": "execute_result"
    }
   ],
   "source": [
    "info = pd.DataFrame()   # creating empty dataframe\n",
    "info['DataTypes'] = df_merge.dtypes  # to get data types\n",
    "info['Unique_values'] = df_merge.nunique()  #to get unique values\n",
    "info"
   ]
  },
  {
   "cell_type": "code",
   "execution_count": 18,
   "id": "d81d0202",
   "metadata": {},
   "outputs": [],
   "source": [
    "# df_merge['category'].unique()"
   ]
  },
  {
   "cell_type": "code",
   "execution_count": 19,
   "id": "2bce3720",
   "metadata": {},
   "outputs": [
    {
     "data": {
      "text/html": [
       "<div>\n",
       "<style scoped>\n",
       "    .dataframe tbody tr th:only-of-type {\n",
       "        vertical-align: middle;\n",
       "    }\n",
       "\n",
       "    .dataframe tbody tr th {\n",
       "        vertical-align: top;\n",
       "    }\n",
       "\n",
       "    .dataframe thead th {\n",
       "        text-align: right;\n",
       "    }\n",
       "</style>\n",
       "<table border=\"1\" class=\"dataframe\">\n",
       "  <thead>\n",
       "    <tr style=\"text-align: right;\">\n",
       "      <th></th>\n",
       "      <th>Levy</th>\n",
       "      <th>Manufacturer</th>\n",
       "      <th>Model</th>\n",
       "      <th>Category</th>\n",
       "      <th>Leather interior</th>\n",
       "      <th>Fuel type</th>\n",
       "      <th>Engine volume</th>\n",
       "      <th>Mileage</th>\n",
       "      <th>Gear box type</th>\n",
       "      <th>Drive wheels</th>\n",
       "      <th>Doors</th>\n",
       "      <th>Wheel</th>\n",
       "      <th>Color</th>\n",
       "    </tr>\n",
       "  </thead>\n",
       "  <tbody>\n",
       "    <tr>\n",
       "      <th>count</th>\n",
       "      <td>27482</td>\n",
       "      <td>27482</td>\n",
       "      <td>27482</td>\n",
       "      <td>27482</td>\n",
       "      <td>27482</td>\n",
       "      <td>27482</td>\n",
       "      <td>27482</td>\n",
       "      <td>27482</td>\n",
       "      <td>27482</td>\n",
       "      <td>27482</td>\n",
       "      <td>27482</td>\n",
       "      <td>27482</td>\n",
       "      <td>27482</td>\n",
       "    </tr>\n",
       "    <tr>\n",
       "      <th>unique</th>\n",
       "      <td>635</td>\n",
       "      <td>68</td>\n",
       "      <td>1981</td>\n",
       "      <td>11</td>\n",
       "      <td>2</td>\n",
       "      <td>7</td>\n",
       "      <td>112</td>\n",
       "      <td>9977</td>\n",
       "      <td>4</td>\n",
       "      <td>3</td>\n",
       "      <td>3</td>\n",
       "      <td>2</td>\n",
       "      <td>16</td>\n",
       "    </tr>\n",
       "    <tr>\n",
       "      <th>top</th>\n",
       "      <td>-</td>\n",
       "      <td>HYUNDAI</td>\n",
       "      <td>Sonata</td>\n",
       "      <td>Sedan</td>\n",
       "      <td>Yes</td>\n",
       "      <td>Petrol</td>\n",
       "      <td>2</td>\n",
       "      <td>0 km</td>\n",
       "      <td>Automatic</td>\n",
       "      <td>Front</td>\n",
       "      <td>04-May</td>\n",
       "      <td>Left wheel</td>\n",
       "      <td>Black</td>\n",
       "    </tr>\n",
       "    <tr>\n",
       "      <th>freq</th>\n",
       "      <td>8273</td>\n",
       "      <td>5358</td>\n",
       "      <td>1557</td>\n",
       "      <td>12534</td>\n",
       "      <td>19926</td>\n",
       "      <td>14492</td>\n",
       "      <td>5587</td>\n",
       "      <td>1013</td>\n",
       "      <td>19296</td>\n",
       "      <td>18374</td>\n",
       "      <td>26173</td>\n",
       "      <td>25384</td>\n",
       "      <td>7196</td>\n",
       "    </tr>\n",
       "  </tbody>\n",
       "</table>\n",
       "</div>"
      ],
      "text/plain": [
       "         Levy Manufacturer   Model Category Leather interior Fuel type  \\\n",
       "count   27482        27482   27482    27482            27482     27482   \n",
       "unique    635           68    1981       11                2         7   \n",
       "top         -      HYUNDAI  Sonata    Sedan              Yes    Petrol   \n",
       "freq     8273         5358    1557    12534            19926     14492   \n",
       "\n",
       "       Engine volume Mileage Gear box type Drive wheels   Doors       Wheel  \\\n",
       "count          27482   27482         27482        27482   27482       27482   \n",
       "unique           112    9977             4            3       3           2   \n",
       "top                2    0 km     Automatic        Front  04-May  Left wheel   \n",
       "freq            5587    1013         19296        18374   26173       25384   \n",
       "\n",
       "        Color  \n",
       "count   27482  \n",
       "unique     16  \n",
       "top     Black  \n",
       "freq     7196  "
      ]
     },
     "execution_count": 19,
     "metadata": {},
     "output_type": "execute_result"
    }
   ],
   "source": [
    "df_merge.describe(include='object')"
   ]
  },
  {
   "cell_type": "code",
   "execution_count": 20,
   "id": "065a1a24",
   "metadata": {},
   "outputs": [
    {
     "data": {
      "text/html": [
       "<div>\n",
       "<style scoped>\n",
       "    .dataframe tbody tr th:only-of-type {\n",
       "        vertical-align: middle;\n",
       "    }\n",
       "\n",
       "    .dataframe tbody tr th {\n",
       "        vertical-align: top;\n",
       "    }\n",
       "\n",
       "    .dataframe thead th {\n",
       "        text-align: right;\n",
       "    }\n",
       "</style>\n",
       "<table border=\"1\" class=\"dataframe\">\n",
       "  <thead>\n",
       "    <tr style=\"text-align: right;\">\n",
       "      <th></th>\n",
       "      <th>ID</th>\n",
       "      <th>Prod. year</th>\n",
       "      <th>Cylinders</th>\n",
       "      <th>Airbags</th>\n",
       "    </tr>\n",
       "  </thead>\n",
       "  <tbody>\n",
       "    <tr>\n",
       "      <th>count</th>\n",
       "      <td>2.748200e+04</td>\n",
       "      <td>27482.000000</td>\n",
       "      <td>27482.000000</td>\n",
       "      <td>27482.000000</td>\n",
       "    </tr>\n",
       "    <tr>\n",
       "      <th>mean</th>\n",
       "      <td>4.557857e+07</td>\n",
       "      <td>2010.912452</td>\n",
       "      <td>4.593734</td>\n",
       "      <td>6.563569</td>\n",
       "    </tr>\n",
       "    <tr>\n",
       "      <th>std</th>\n",
       "      <td>9.244972e+05</td>\n",
       "      <td>5.632865</td>\n",
       "      <td>1.413918</td>\n",
       "      <td>4.329256</td>\n",
       "    </tr>\n",
       "    <tr>\n",
       "      <th>min</th>\n",
       "      <td>2.074688e+07</td>\n",
       "      <td>1939.000000</td>\n",
       "      <td>1.000000</td>\n",
       "      <td>0.000000</td>\n",
       "    </tr>\n",
       "    <tr>\n",
       "      <th>25%</th>\n",
       "      <td>4.569808e+07</td>\n",
       "      <td>2009.000000</td>\n",
       "      <td>4.000000</td>\n",
       "      <td>4.000000</td>\n",
       "    </tr>\n",
       "    <tr>\n",
       "      <th>50%</th>\n",
       "      <td>4.577207e+07</td>\n",
       "      <td>2012.000000</td>\n",
       "      <td>4.000000</td>\n",
       "      <td>6.000000</td>\n",
       "    </tr>\n",
       "    <tr>\n",
       "      <th>75%</th>\n",
       "      <td>4.580197e+07</td>\n",
       "      <td>2015.000000</td>\n",
       "      <td>4.000000</td>\n",
       "      <td>12.000000</td>\n",
       "    </tr>\n",
       "    <tr>\n",
       "      <th>max</th>\n",
       "      <td>4.581665e+07</td>\n",
       "      <td>2020.000000</td>\n",
       "      <td>127.000000</td>\n",
       "      <td>16.000000</td>\n",
       "    </tr>\n",
       "  </tbody>\n",
       "</table>\n",
       "</div>"
      ],
      "text/plain": [
       "                 ID    Prod. year     Cylinders       Airbags\n",
       "count  2.748200e+04  27482.000000  27482.000000  27482.000000\n",
       "mean   4.557857e+07   2010.912452      4.593734      6.563569\n",
       "std    9.244972e+05      5.632865      1.413918      4.329256\n",
       "min    2.074688e+07   1939.000000      1.000000      0.000000\n",
       "25%    4.569808e+07   2009.000000      4.000000      4.000000\n",
       "50%    4.577207e+07   2012.000000      4.000000      6.000000\n",
       "75%    4.580197e+07   2015.000000      4.000000     12.000000\n",
       "max    4.581665e+07   2020.000000    127.000000     16.000000"
      ]
     },
     "execution_count": 20,
     "metadata": {},
     "output_type": "execute_result"
    }
   ],
   "source": [
    "df_merge.describe(include=np.number)"
   ]
  },
  {
   "cell_type": "markdown",
   "id": "8800db11",
   "metadata": {},
   "source": [
    "## Rectifying Data"
   ]
  },
  {
   "cell_type": "code",
   "execution_count": 21,
   "id": "7cd5cc96",
   "metadata": {},
   "outputs": [],
   "source": [
    "# removing km and c onverting column to float type \n",
    "df_merge['Mileage'] = pd.to_numeric(df_merge.Mileage.str.split(' ').str[0], downcast='float')"
   ]
  },
  {
   "cell_type": "code",
   "execution_count": null,
   "id": "af592eb1",
   "metadata": {},
   "outputs": [],
   "source": [
    "# df_merge[['Milage','km']]=df_merge['Milage'].str.split(\" \",N=1,expand=True)\n",
    "# df_merge.drop('km',axis=1,inplace=True)\n",
    "# df_merge['Milage'].astype('float')    #same as above"
   ]
  },
  {
   "cell_type": "code",
   "execution_count": 23,
   "id": "86264619",
   "metadata": {},
   "outputs": [],
   "source": [
    "#replacing all the '0' values with the mean values\n",
    "df_merge['Mileage'] = np.where(df_merge['Mileage'] == 0.0,df_merge['Mileage'].mean(),df_merge['Mileage'])"
   ]
  },
  {
   "cell_type": "code",
   "execution_count": 24,
   "id": "6d415ea5",
   "metadata": {},
   "outputs": [
    {
     "data": {
      "text/plain": [
       "array(['04-May', '02-Mar', '>5'], dtype=object)"
      ]
     },
     "execution_count": 24,
     "metadata": {},
     "output_type": "execute_result"
    }
   ],
   "source": [
    "df_merge['Doors'].unique()"
   ]
  },
  {
   "cell_type": "code",
   "execution_count": 25,
   "id": "8d0cf9fe",
   "metadata": {},
   "outputs": [],
   "source": [
    "df_merge['Doors'] = np.where((df_merge['Doors'] == '04-May') | (df_merge['Doors'] == '02-Mar'), df_merge['Doors'].str.split('-').str[0],df_merge['Doors'])"
   ]
  },
  {
   "cell_type": "code",
   "execution_count": 26,
   "id": "bf153dd8",
   "metadata": {},
   "outputs": [
    {
     "data": {
      "text/plain": [
       "array(['04', '02', '>5'], dtype=object)"
      ]
     },
     "execution_count": 26,
     "metadata": {},
     "output_type": "execute_result"
    }
   ],
   "source": [
    "df_merge['Doors'].unique()"
   ]
  },
  {
   "cell_type": "code",
   "execution_count": 27,
   "id": "6c557771",
   "metadata": {},
   "outputs": [
    {
     "data": {
      "text/plain": [
       "array(['1399', '1018', '-', '862', '446', '891', '761', '751', '394',\n",
       "       '1053', '1055', '1079', '810', '2386', '1850', '531', '586',\n",
       "       '1249', '2455', '583', '1537', '1288', '915', '1750', '707',\n",
       "       '1077', '1486', '1091', '650', '382', '1436', '1194', '503',\n",
       "       '1017', '1104', '639', '629', '919', '781', '530', '640', '765',\n",
       "       '777', '779', '934', '769', '645', '1185', '1324', '830', '1187',\n",
       "       '1111', '760', '642', '1604', '1095', '966', '473', '1138', '1811',\n",
       "       '988', '917', '1156', '687', '11714', '836', '1347', '2866',\n",
       "       '1646', '259', '609', '697', '585', '475', '690', '308', '1823',\n",
       "       '1361', '1273', '924', '584', '2078', '831', '1172', '893', '1872',\n",
       "       '1885', '1266', '447', '2148', '1730', '730', '289', '502', '333',\n",
       "       '1325', '247', '879', '1342', '1327', '1598', '1514', '1058',\n",
       "       '738', '1935', '481', '1522', '1282', '456', '880', '900', '798',\n",
       "       '1277', '442', '1051', '790', '1292', '1047', '528', '1211',\n",
       "       '1493', '1793', '574', '930', '1998', '271', '706', '1481', '1677',\n",
       "       '1661', '1286', '1408', '1090', '595', '1451', '1267', '993',\n",
       "       '1714', '878', '641', '749', '1511', '603', '353', '877', '1236',\n",
       "       '1141', '397', '784', '1024', '1357', '1301', '770', '922', '1438',\n",
       "       '753', '607', '1363', '638', '490', '431', '565', '517', '833',\n",
       "       '489', '1760', '986', '1841', '1620', '1360', '474', '1099', '978',\n",
       "       '1624', '1946', '1268', '1307', '696', '649', '666', '2151', '551',\n",
       "       '800', '971', '1323', '2377', '1845', '1083', '694', '463', '419',\n",
       "       '345', '1515', '1505', '2056', '1203', '729', '460', '1356', '876',\n",
       "       '911', '1190', '780', '448', '2410', '1848', '1148', '834', '1275',\n",
       "       '1028', '1197', '724', '890', '1705', '505', '789', '2959', '518',\n",
       "       '461', '1719', '2858', '3156', '2225', '2177', '1968', '1888',\n",
       "       '1308', '2736', '1103', '557', '2195', '843', '1664', '723',\n",
       "       '4508', '562', '501', '2018', '1076', '1202', '3301', '691',\n",
       "       '1440', '1869', '1178', '418', '1820', '1413', '488', '1304',\n",
       "       '363', '2108', '521', '1659', '87', '1411', '1528', '3292', '7058',\n",
       "       '1578', '627', '874', '1996', '1488', '5679', '1234', '5603',\n",
       "       '400', '889', '3268', '875', '949', '2265', '441', '742', '425',\n",
       "       '2476', '2971', '614', '1816', '1375', '1405', '2297', '1062',\n",
       "       '1113', '420', '2469', '658', '1951', '2670', '2578', '1995',\n",
       "       '1032', '994', '1011', '2421', '1296', '155', '494', '426', '1086',\n",
       "       '961', '2236', '1829', '764', '1834', '1054', '617', '1529',\n",
       "       '2266', '637', '626', '1832', '1016', '2002', '1756', '746',\n",
       "       '1285', '2690', '1118', '5332', '980', '1807', '970', '1228',\n",
       "       '1195', '1132', '1768', '1384', '1080', '7063', '1817', '1452',\n",
       "       '1975', '1368', '702', '1974', '1781', '1036', '944', '663', '364',\n",
       "       '1539', '1345', '1680', '2209', '741', '1575', '695', '1317',\n",
       "       '294', '1525', '424', '997', '1473', '1552', '2819', '2188',\n",
       "       '1668', '3057', '799', '1502', '2606', '552', '1694', '1759',\n",
       "       '1110', '399', '1470', '1174', '5877', '1474', '1688', '526',\n",
       "       '686', '5908', '1107', '2070', '1468', '1246', '1685', '556',\n",
       "       '1533', '1917', '1346', '732', '692', '579', '421', '362', '3505',\n",
       "       '1855', '2711', '1586', '3739', '681', '1708', '2278', '1701',\n",
       "       '722', '1482', '928', '827', '832', '527', '604', '173', '1341',\n",
       "       '3329', '1553', '859', '167', '916', '828', '2082', '1176', '1108',\n",
       "       '975', '3008', '1516', '2269', '1699', '2073', '1031', '1503',\n",
       "       '2364', '1030', '1442', '5666', '2715', '1437', '2067', '1426',\n",
       "       '2908', '1279', '866', '4283', '279', '2658', '3015', '2004',\n",
       "       '1391', '4736', '748', '1466', '644', '683', '2705', '1297', '731',\n",
       "       '1252', '2216', '3141', '3273', '1518', '1723', '1588', '972',\n",
       "       '682', '1094', '668', '175', '967', '402', '3894', '1960', '1599',\n",
       "       '2000', '2084', '1621', '714', '1109', '3989', '873', '1572',\n",
       "       '1163', '1991', '1716', '1673', '2562', '2874', '965', '462',\n",
       "       '605', '1948', '1736', '3518', '2054', '2467', '1681', '1272',\n",
       "       '1205', '750', '2156', '2566', '115', '524', '3184', '676', '1678',\n",
       "       '612', '328', '955', '1441', '1675', '3965', '2909', '623', '822',\n",
       "       '867', '3025', '1993', '792', '636', '4057', '3743', '2337',\n",
       "       '2570', '2418', '2472', '3910', '1662', '2123', '2628', '3208',\n",
       "       '2080', '3699', '2913', '864', '2505', '870', '7536', '1924',\n",
       "       '1671', '1064', '1836', '1866', '4741', '841', '1369', '5681',\n",
       "       '3112', '1366', '2223', '1198', '1039', '3811', '3571', '1387',\n",
       "       '1171', '1365', '1531', '1590', '11706', '2308', '4860', '1641',\n",
       "       '1045', '1901', '1883', '1613', '4746', '3061', '2547', '3258',\n",
       "       '7528', '2317', '1846', '3005', '2802', '1545', '2096', '2625',\n",
       "       '1526', '1721', '437', '818', '1364', '1168', '2132', '3515',\n",
       "       '771', '4514', '1844', '914', '923', '1830', '2553', '2008', '977',\n",
       "       '2969', '4053', '1594', '1415', '1698', '5220', '1254', '1747',\n",
       "       '3718', '2643', '1044', '4735', '1555', '5668', '582', '2390',\n",
       "       '238', '1040', '835', '763', '2040', '1696', '1837', '1614',\n",
       "       '1519', '2800', '1035', '2528', '4739', '1271', '1359', '2488',\n",
       "       '2235', '2052', '1226', '4159', '2068', '2243', '2504', '1762',\n",
       "       '3592', '1899', '704', '2373', '884'], dtype=object)"
      ]
     },
     "execution_count": 27,
     "metadata": {},
     "output_type": "execute_result"
    }
   ],
   "source": [
    "df_merge['Levy'].unique()"
   ]
  },
  {
   "cell_type": "code",
   "execution_count": 28,
   "id": "7bdcfce4",
   "metadata": {},
   "outputs": [],
   "source": [
    "df_merge['Levy'] = pd.to_numeric(df_merge['Levy'].replace('-', '0'), downcast='float')"
   ]
  },
  {
   "cell_type": "code",
   "execution_count": 29,
   "id": "a7b6cc27",
   "metadata": {},
   "outputs": [],
   "source": [
    "df_merge['Levy'] = np.where(df_merge['Levy'] == 0.0,df_merge['Levy'].mean(),df_merge['Levy'])"
   ]
  },
  {
   "cell_type": "code",
   "execution_count": 30,
   "id": "3bb68eb4",
   "metadata": {},
   "outputs": [
    {
     "data": {
      "text/plain": [
       "array(['3.5', '3', '1.3', '2.5', '2', '1.8', '2.4', '4', '1.6', '3.3',\n",
       "       '2.0 Turbo', '2.2 Turbo', '4.7', '1.5', '4.4', '3.0 Turbo',\n",
       "       '1.4 Turbo', '3.6', '2.3', '1.5 Turbo', '1.6 Turbo', '2.2',\n",
       "       '2.3 Turbo', '1.4', '5.5', '2.8 Turbo', '3.2', '3.8', '4.6', '1.2',\n",
       "       '5', '1.7', '2.9', '0.5', '1.8 Turbo', '2.4 Turbo', '3.5 Turbo',\n",
       "       '1.9', '2.7', '4.8', '5.3', '0.4', '2.8', '3.2 Turbo', '1.1',\n",
       "       '2.1', '0.7', '5.4', '1.3 Turbo', '3.7', '1', '2.5 Turbo', '2.6',\n",
       "       '1.9 Turbo', '4.4 Turbo', '4.7 Turbo', '0.8', '0.2 Turbo', '5.7',\n",
       "       '4.8 Turbo', '4.6 Turbo', '6.7', '6.2', '1.2 Turbo', '3.4',\n",
       "       '1.7 Turbo', '6.3 Turbo', '2.7 Turbo', '4.3', '4.2', '2.9 Turbo',\n",
       "       '0', '4.0 Turbo', '20', '3.6 Turbo', '0.3', '3.7 Turbo', '5.9',\n",
       "       '5.5 Turbo', '0.2', '2.1 Turbo', '5.6', '6', '0.7 Turbo',\n",
       "       '0.6 Turbo', '6.8', '4.5', '0.6', '7.3', '0.1', '1.0 Turbo', '6.3',\n",
       "       '4.5 Turbo', '0.8 Turbo', '4.2 Turbo', '3.1', '5.0 Turbo', '6.4',\n",
       "       '3.9', '5.7 Turbo', '0.9', '0.4 Turbo', '5.4 Turbo', '0.3 Turbo',\n",
       "       '5.2', '5.8', '1.1 Turbo', '6.6', '6.1', '10.8', '6.0 Turbo',\n",
       "       '2.6 Turbo'], dtype=object)"
      ]
     },
     "execution_count": 30,
     "metadata": {},
     "output_type": "execute_result"
    }
   ],
   "source": [
    "df_merge['Engine volume'].unique()"
   ]
  },
  {
   "cell_type": "code",
   "execution_count": 31,
   "id": "fc7d159a",
   "metadata": {},
   "outputs": [],
   "source": [
    "df_merge['Engine volume'] = pd.to_numeric(df_merge['Engine volume'].str.split(' ').str[0], downcast='float')"
   ]
  },
  {
   "cell_type": "code",
   "execution_count": 32,
   "id": "75ded33f",
   "metadata": {},
   "outputs": [],
   "source": [
    "df_merge['Engine volume']=np.where(df_merge['Engine volume'] == 0.0,df_merge['Engine volume'].mean(),df_merge['Engine volume'])"
   ]
  },
  {
   "cell_type": "code",
   "execution_count": 33,
   "id": "7b2a6d85",
   "metadata": {},
   "outputs": [],
   "source": [
    "import datetime as dt\n",
    "currt_time = dt.datetime.now()\n",
    "df_merge['Prod. year'] = currt_time.year - df_merge['Prod. year'] "
   ]
  },
  {
   "cell_type": "code",
   "execution_count": 34,
   "id": "6a61d526",
   "metadata": {},
   "outputs": [
    {
     "data": {
      "text/html": [
       "<div>\n",
       "<style scoped>\n",
       "    .dataframe tbody tr th:only-of-type {\n",
       "        vertical-align: middle;\n",
       "    }\n",
       "\n",
       "    .dataframe tbody tr th {\n",
       "        vertical-align: top;\n",
       "    }\n",
       "\n",
       "    .dataframe thead th {\n",
       "        text-align: right;\n",
       "    }\n",
       "</style>\n",
       "<table border=\"1\" class=\"dataframe\">\n",
       "  <thead>\n",
       "    <tr style=\"text-align: right;\">\n",
       "      <th></th>\n",
       "      <th>ID</th>\n",
       "      <th>Levy</th>\n",
       "      <th>Manufacturer</th>\n",
       "      <th>Model</th>\n",
       "      <th>Prod. year</th>\n",
       "      <th>Category</th>\n",
       "      <th>Leather interior</th>\n",
       "      <th>Fuel type</th>\n",
       "      <th>Engine volume</th>\n",
       "      <th>Mileage</th>\n",
       "      <th>Cylinders</th>\n",
       "      <th>Gear box type</th>\n",
       "      <th>Drive wheels</th>\n",
       "      <th>Doors</th>\n",
       "      <th>Wheel</th>\n",
       "      <th>Color</th>\n",
       "      <th>Airbags</th>\n",
       "    </tr>\n",
       "  </thead>\n",
       "  <tbody>\n",
       "    <tr>\n",
       "      <th>0</th>\n",
       "      <td>45654403</td>\n",
       "      <td>1399.000000</td>\n",
       "      <td>LEXUS</td>\n",
       "      <td>RX 450</td>\n",
       "      <td>13</td>\n",
       "      <td>Jeep</td>\n",
       "      <td>Yes</td>\n",
       "      <td>Hybrid</td>\n",
       "      <td>3.5</td>\n",
       "      <td>186005.0</td>\n",
       "      <td>6.0</td>\n",
       "      <td>Automatic</td>\n",
       "      <td>4x4</td>\n",
       "      <td>04</td>\n",
       "      <td>Left wheel</td>\n",
       "      <td>Silver</td>\n",
       "      <td>12</td>\n",
       "    </tr>\n",
       "    <tr>\n",
       "      <th>1</th>\n",
       "      <td>44731507</td>\n",
       "      <td>1018.000000</td>\n",
       "      <td>CHEVROLET</td>\n",
       "      <td>Equinox</td>\n",
       "      <td>12</td>\n",
       "      <td>Jeep</td>\n",
       "      <td>No</td>\n",
       "      <td>Petrol</td>\n",
       "      <td>3.0</td>\n",
       "      <td>192000.0</td>\n",
       "      <td>6.0</td>\n",
       "      <td>Tiptronic</td>\n",
       "      <td>4x4</td>\n",
       "      <td>04</td>\n",
       "      <td>Left wheel</td>\n",
       "      <td>Black</td>\n",
       "      <td>8</td>\n",
       "    </tr>\n",
       "    <tr>\n",
       "      <th>2</th>\n",
       "      <td>45774419</td>\n",
       "      <td>636.172974</td>\n",
       "      <td>HONDA</td>\n",
       "      <td>FIT</td>\n",
       "      <td>17</td>\n",
       "      <td>Hatchback</td>\n",
       "      <td>No</td>\n",
       "      <td>Petrol</td>\n",
       "      <td>1.3</td>\n",
       "      <td>200000.0</td>\n",
       "      <td>4.0</td>\n",
       "      <td>Variator</td>\n",
       "      <td>Front</td>\n",
       "      <td>04</td>\n",
       "      <td>Right-hand drive</td>\n",
       "      <td>Black</td>\n",
       "      <td>2</td>\n",
       "    </tr>\n",
       "    <tr>\n",
       "      <th>3</th>\n",
       "      <td>45769185</td>\n",
       "      <td>862.000000</td>\n",
       "      <td>FORD</td>\n",
       "      <td>Escape</td>\n",
       "      <td>12</td>\n",
       "      <td>Jeep</td>\n",
       "      <td>Yes</td>\n",
       "      <td>Hybrid</td>\n",
       "      <td>2.5</td>\n",
       "      <td>168966.0</td>\n",
       "      <td>4.0</td>\n",
       "      <td>Automatic</td>\n",
       "      <td>4x4</td>\n",
       "      <td>04</td>\n",
       "      <td>Left wheel</td>\n",
       "      <td>White</td>\n",
       "      <td>0</td>\n",
       "    </tr>\n",
       "    <tr>\n",
       "      <th>4</th>\n",
       "      <td>45809263</td>\n",
       "      <td>446.000000</td>\n",
       "      <td>HONDA</td>\n",
       "      <td>FIT</td>\n",
       "      <td>9</td>\n",
       "      <td>Hatchback</td>\n",
       "      <td>Yes</td>\n",
       "      <td>Petrol</td>\n",
       "      <td>1.3</td>\n",
       "      <td>91901.0</td>\n",
       "      <td>4.0</td>\n",
       "      <td>Automatic</td>\n",
       "      <td>Front</td>\n",
       "      <td>04</td>\n",
       "      <td>Left wheel</td>\n",
       "      <td>Silver</td>\n",
       "      <td>4</td>\n",
       "    </tr>\n",
       "  </tbody>\n",
       "</table>\n",
       "</div>"
      ],
      "text/plain": [
       "         ID         Levy Manufacturer    Model  Prod. year   Category  \\\n",
       "0  45654403  1399.000000        LEXUS   RX 450          13       Jeep   \n",
       "1  44731507  1018.000000    CHEVROLET  Equinox          12       Jeep   \n",
       "2  45774419   636.172974        HONDA      FIT          17  Hatchback   \n",
       "3  45769185   862.000000         FORD   Escape          12       Jeep   \n",
       "4  45809263   446.000000        HONDA      FIT           9  Hatchback   \n",
       "\n",
       "  Leather interior Fuel type  Engine volume   Mileage  Cylinders  \\\n",
       "0              Yes    Hybrid            3.5  186005.0        6.0   \n",
       "1               No    Petrol            3.0  192000.0        6.0   \n",
       "2               No    Petrol            1.3  200000.0        4.0   \n",
       "3              Yes    Hybrid            2.5  168966.0        4.0   \n",
       "4              Yes    Petrol            1.3   91901.0        4.0   \n",
       "\n",
       "  Gear box type Drive wheels Doors             Wheel   Color  Airbags  \n",
       "0     Automatic          4x4    04        Left wheel  Silver       12  \n",
       "1     Tiptronic          4x4    04        Left wheel   Black        8  \n",
       "2      Variator        Front    04  Right-hand drive   Black        2  \n",
       "3     Automatic          4x4    04        Left wheel   White        0  \n",
       "4     Automatic        Front    04        Left wheel  Silver        4  "
      ]
     },
     "execution_count": 34,
     "metadata": {},
     "output_type": "execute_result"
    }
   ],
   "source": [
    "df_merge.head()"
   ]
  },
  {
   "cell_type": "markdown",
   "id": "838bdfd4",
   "metadata": {},
   "source": [
    "## Extrapolatory Data Analysis"
   ]
  },
  {
   "cell_type": "code",
   "execution_count": 35,
   "id": "3fa812b7",
   "metadata": {},
   "outputs": [
    {
     "data": {
      "text/plain": [
       "<function matplotlib.pyplot.show(close=None, block=None)>"
      ]
     },
     "execution_count": 35,
     "metadata": {},
     "output_type": "execute_result"
    },
    {
     "data": {
      "image/png": "[encoded data removed]",
      "text/plain": [
       "<Figure size 1500x800 with 1 Axes>"
      ]
     },
     "metadata": {},
     "output_type": "display_data"
    }
   ],
   "source": [
    "sns.heatmap(df_merge.isnull(),cbar=False) # to see missing values\n",
    "plt.show"
   ]
  },
  {
   "cell_type": "code",
   "execution_count": 36,
   "id": "e5afef90",
   "metadata": {},
   "outputs": [
    {
     "data": {
      "text/plain": [
       "<AxesSubplot:>"
      ]
     },
     "execution_count": 36,
     "metadata": {},
     "output_type": "execute_result"
    },
    {
     "data": {
      "image/png": "[encoded data removed]",
      "text/plain": [
       "<Figure size 1500x800 with 2 Axes>"
      ]
     },
     "metadata": {},
     "output_type": "display_data"
    }
   ],
   "source": [
    "sns.heatmap(df_merge.corr(), cbar=True, annot=True)  # to see correlation"
   ]
  },
  {
   "cell_type": "code",
   "execution_count": 37,
   "id": "11857eaf",
   "metadata": {},
   "outputs": [
    {
     "data": {
      "image/png": "[encoded data removed]",
      "text/plain": [
       "<Figure size 1500x800 with 9 Axes>"
      ]
     },
     "metadata": {},
     "output_type": "display_data"
    }
   ],
   "source": [
    "df_merge.hist()           #shows distribution of numeric values\n",
    "plt.tight_layout()\n",
    "plt.show()"
   ]
  },
  {
   "cell_type": "code",
   "execution_count": 38,
   "id": "b2145737",
   "metadata": {},
   "outputs": [
    {
     "name": "stdout",
     "output_type": "stream",
     "text": [
      "Negatively skewed\n"
     ]
    }
   ],
   "source": [
    "from scipy.stats import shapiro     #shapiro test to check the skewness of the target variable\n",
    "x = shapiro(y)\n",
    "if x[1] <= 0:\n",
    "    print('Negatively skewed')\n",
    "else:\n",
    "    print('Positively Skewed')"
   ]
  },
  {
   "cell_type": "code",
   "execution_count": 39,
   "id": "3193b8ac",
   "metadata": {},
   "outputs": [],
   "source": [
    "y = np.log(y)    # to normalize -ve skew"
   ]
  },
  {
   "cell_type": "markdown",
   "id": "e3ac6c45",
   "metadata": {},
   "source": [
    "##  building the model"
   ]
  },
  {
   "cell_type": "code",
   "execution_count": 40,
   "id": "83e13186",
   "metadata": {},
   "outputs": [],
   "source": [
    "categ = df_merge.select_dtypes(include='object')\n",
    "num = df_merge.select_dtypes(include = np.number)"
   ]
  },
  {
   "cell_type": "code",
   "execution_count": 41,
   "id": "46536c09",
   "metadata": {},
   "outputs": [],
   "source": [
    "cat_dummies = pd.get_dummies(categ,drop_first=True)  # getting dummies for categorical variable"
   ]
  },
  {
   "cell_type": "code",
   "execution_count": 42,
   "id": "de09042f",
   "metadata": {},
   "outputs": [],
   "source": [
    "df_final = pd.concat([num,cat_dummies], axis=1)"
   ]
  },
  {
   "cell_type": "code",
   "execution_count": 43,
   "id": "d8968da4",
   "metadata": {},
   "outputs": [
    {
     "data": {
      "text/plain": [
       "(27482, 2094)"
      ]
     },
     "execution_count": 43,
     "metadata": {},
     "output_type": "execute_result"
    }
   ],
   "source": [
    "df_final.shape"
   ]
  },
  {
   "cell_type": "code",
   "execution_count": 44,
   "id": "787b5b2e",
   "metadata": {},
   "outputs": [
    {
     "data": {
      "text/plain": [
       "(19237, 2094)"
      ]
     },
     "execution_count": 44,
     "metadata": {},
     "output_type": "execute_result"
    }
   ],
   "source": [
    "train_data = df_final.iloc[:19237]  # segrigating training and testing data\n",
    "train_data.shape"
   ]
  },
  {
   "cell_type": "code",
   "execution_count": 45,
   "id": "9e67c937",
   "metadata": {},
   "outputs": [
    {
     "data": {
      "text/plain": [
       "(8245, 2094)"
      ]
     },
     "execution_count": 45,
     "metadata": {},
     "output_type": "execute_result"
    }
   ],
   "source": [
    "test_data = df_final.iloc[19237:]\n",
    "test_data.shape"
   ]
  },
  {
   "cell_type": "code",
   "execution_count": 46,
   "id": "3aa0b5f5",
   "metadata": {},
   "outputs": [],
   "source": [
    "X = train_data        \n",
    "Y=y\n",
    "         # splitting data\n",
    "\n",
    "X_train, X_test, y_train, y_test = train_test_split(X,Y, test_size=0.3, random_state=10)"
   ]
  },
  {
   "cell_type": "code",
   "execution_count": 47,
   "id": "11f5822a",
   "metadata": {},
   "outputs": [],
   "source": [
    "#Randomized Search CV for searching the best parameters\n",
    "\n",
    "# Number of trees in random forest\n",
    "n_estimators = [int(x) for x in np.linspace(start = 100, stop = 1200, num = 12)]\n",
    "\n",
    "# Number of features to consider at every split\n",
    "max_features = ['auto', 'sqrt']\n",
    "\n",
    "# Maximum number of levels in tree\n",
    "max_depth = [int(x) for x in np.linspace(5, 30, num = 6)]\n",
    "\n",
    "# Minimum number of samples required to split a node\n",
    "min_samples_split = [2, 5, 10, 15, 100]\n",
    "\n",
    "# Minimum number of samples required at each leaf node\n",
    "min_samples_leaf = [1, 2, 5, 10]"
   ]
  },
  {
   "cell_type": "code",
   "execution_count": 48,
   "id": "e97c86de",
   "metadata": {},
   "outputs": [
    {
     "name": "stdout",
     "output_type": "stream",
     "text": [
      "{'n_estimators': [100, 200, 300, 400, 500, 600, 700, 800, 900, 1000, 1100, 1200], 'max_features': ['auto', 'sqrt'], 'max_depth': [5, 10, 15, 20, 25, 30], 'min_samples_split': [2, 5, 10, 15, 100], 'min_samples_leaf': [1, 2, 5, 10]}\n"
     ]
    }
   ],
   "source": [
    "random_grid = {'n_estimators': n_estimators,\n",
    "               'max_features': max_features,\n",
    "               'max_depth': max_depth,\n",
    "               'min_samples_split': min_samples_split,\n",
    "               'min_samples_leaf': min_samples_leaf}\n",
    "\n",
    "print(random_grid)"
   ]
  },
  {
   "cell_type": "code",
   "execution_count": 49,
   "id": "6fe7ce95",
   "metadata": {},
   "outputs": [],
   "source": [
    "rf_model = RandomForestRegressor()"
   ]
  },
  {
   "cell_type": "code",
   "execution_count": 50,
   "id": "fbab5d27",
   "metadata": {},
   "outputs": [],
   "source": [
    "rf_random_model = RandomizedSearchCV(estimator = rf_model, param_distributions = random_grid,scoring='neg_mean_squared_error', n_iter = 10, cv = 5, verbose=2, random_state=42, n_jobs = 1)"
   ]
  },
  {
   "cell_type": "code",
   "execution_count": 51,
   "id": "ee87faca",
   "metadata": {},
   "outputs": [
    {
     "name": "stdout",
     "output_type": "stream",
     "text": [
      "Fitting 5 folds for each of 10 candidates, totalling 50 fits\n",
      "[CV] END max_depth=10, max_features=sqrt, min_samples_leaf=5, min_samples_split=5, n_estimators=900; total time=  13.2s\n",
      "[CV] END max_depth=10, max_features=sqrt, min_samples_leaf=5, min_samples_split=5, n_estimators=900; total time=  13.5s\n",
      "[CV] END max_depth=10, max_features=sqrt, min_samples_leaf=5, min_samples_split=5, n_estimators=900; total time=  13.0s\n",
      "[CV] END max_depth=10, max_features=sqrt, min_samples_leaf=5, min_samples_split=5, n_estimators=900; total time=  13.0s\n",
      "[CV] END max_depth=10, max_features=sqrt, min_samples_leaf=5, min_samples_split=5, n_estimators=900; total time=  12.8s\n",
      "[CV] END max_depth=15, max_features=sqrt, min_samples_leaf=2, min_samples_split=10, n_estimators=1100; total time=  25.7s\n",
      "[CV] END max_depth=15, max_features=sqrt, min_samples_leaf=2, min_samples_split=10, n_estimators=1100; total time=  26.1s\n",
      "[CV] END max_depth=15, max_features=sqrt, min_samples_leaf=2, min_samples_split=10, n_estimators=1100; total time=  25.9s\n",
      "[CV] END max_depth=15, max_features=sqrt, min_samples_leaf=2, min_samples_split=10, n_estimators=1100; total time=  28.0s\n",
      "[CV] END max_depth=15, max_features=sqrt, min_samples_leaf=2, min_samples_split=10, n_estimators=1100; total time=  26.8s\n",
      "[CV] END max_depth=15, max_features=auto, min_samples_leaf=5, min_samples_split=100, n_estimators=300; total time= 1.2min\n",
      "[CV] END max_depth=15, max_features=auto, min_samples_leaf=5, min_samples_split=100, n_estimators=300; total time= 1.2min\n",
      "[CV] END max_depth=15, max_features=auto, min_samples_leaf=5, min_samples_split=100, n_estimators=300; total time= 1.1min\n",
      "[CV] END max_depth=15, max_features=auto, min_samples_leaf=5, min_samples_split=100, n_estimators=300; total time= 1.1min\n",
      "[CV] END max_depth=15, max_features=auto, min_samples_leaf=5, min_samples_split=100, n_estimators=300; total time= 1.1min\n",
      "[CV] END max_depth=15, max_features=auto, min_samples_leaf=5, min_samples_split=5, n_estimators=400; total time= 1.6min\n",
      "[CV] END max_depth=15, max_features=auto, min_samples_leaf=5, min_samples_split=5, n_estimators=400; total time= 1.7min\n",
      "[CV] END max_depth=15, max_features=auto, min_samples_leaf=5, min_samples_split=5, n_estimators=400; total time= 1.8min\n",
      "[CV] END max_depth=15, max_features=auto, min_samples_leaf=5, min_samples_split=5, n_estimators=400; total time= 1.6min\n",
      "[CV] END max_depth=15, max_features=auto, min_samples_leaf=5, min_samples_split=5, n_estimators=400; total time= 1.6min\n",
      "[CV] END max_depth=20, max_features=auto, min_samples_leaf=10, min_samples_split=5, n_estimators=700; total time= 2.6min\n",
      "[CV] END max_depth=20, max_features=auto, min_samples_leaf=10, min_samples_split=5, n_estimators=700; total time= 2.7min\n",
      "[CV] END max_depth=20, max_features=auto, min_samples_leaf=10, min_samples_split=5, n_estimators=700; total time= 2.7min\n",
      "[CV] END max_depth=20, max_features=auto, min_samples_leaf=10, min_samples_split=5, n_estimators=700; total time= 2.7min\n",
      "[CV] END max_depth=20, max_features=auto, min_samples_leaf=10, min_samples_split=5, n_estimators=700; total time= 2.7min\n",
      "[CV] END max_depth=25, max_features=sqrt, min_samples_leaf=1, min_samples_split=2, n_estimators=1000; total time= 1.5min\n",
      "[CV] END max_depth=25, max_features=sqrt, min_samples_leaf=1, min_samples_split=2, n_estimators=1000; total time= 1.4min\n",
      "[CV] END max_depth=25, max_features=sqrt, min_samples_leaf=1, min_samples_split=2, n_estimators=1000; total time= 1.3min\n",
      "[CV] END max_depth=25, max_features=sqrt, min_samples_leaf=1, min_samples_split=2, n_estimators=1000; total time= 1.4min\n",
      "[CV] END max_depth=25, max_features=sqrt, min_samples_leaf=1, min_samples_split=2, n_estimators=1000; total time= 1.4min\n",
      "[CV] END max_depth=5, max_features=sqrt, min_samples_leaf=10, min_samples_split=15, n_estimators=1100; total time=   8.4s\n",
      "[CV] END max_depth=5, max_features=sqrt, min_samples_leaf=10, min_samples_split=15, n_estimators=1100; total time=   7.7s\n",
      "[CV] END max_depth=5, max_features=sqrt, min_samples_leaf=10, min_samples_split=15, n_estimators=1100; total time=   8.0s\n",
      "[CV] END max_depth=5, max_features=sqrt, min_samples_leaf=10, min_samples_split=15, n_estimators=1100; total time=   7.8s\n",
      "[CV] END max_depth=5, max_features=sqrt, min_samples_leaf=10, min_samples_split=15, n_estimators=1100; total time=   7.9s\n",
      "[CV] END max_depth=15, max_features=sqrt, min_samples_leaf=1, min_samples_split=15, n_estimators=300; total time=   7.8s\n",
      "[CV] END max_depth=15, max_features=sqrt, min_samples_leaf=1, min_samples_split=15, n_estimators=300; total time=   8.0s\n",
      "[CV] END max_depth=15, max_features=sqrt, min_samples_leaf=1, min_samples_split=15, n_estimators=300; total time=   7.8s\n",
      "[CV] END max_depth=15, max_features=sqrt, min_samples_leaf=1, min_samples_split=15, n_estimators=300; total time=   8.2s\n",
      "[CV] END max_depth=15, max_features=sqrt, min_samples_leaf=1, min_samples_split=15, n_estimators=300; total time=   7.7s\n",
      "[CV] END max_depth=5, max_features=sqrt, min_samples_leaf=2, min_samples_split=10, n_estimators=700; total time=   5.3s\n",
      "[CV] END max_depth=5, max_features=sqrt, min_samples_leaf=2, min_samples_split=10, n_estimators=700; total time=   5.5s\n",
      "[CV] END max_depth=5, max_features=sqrt, min_samples_leaf=2, min_samples_split=10, n_estimators=700; total time=   5.4s\n",
      "[CV] END max_depth=5, max_features=sqrt, min_samples_leaf=2, min_samples_split=10, n_estimators=700; total time=   5.5s\n",
      "[CV] END max_depth=5, max_features=sqrt, min_samples_leaf=2, min_samples_split=10, n_estimators=700; total time=   5.5s\n",
      "[CV] END max_depth=20, max_features=auto, min_samples_leaf=1, min_samples_split=15, n_estimators=700; total time= 2.7min\n",
      "[CV] END max_depth=20, max_features=auto, min_samples_leaf=1, min_samples_split=15, n_estimators=700; total time= 2.8min\n",
      "[CV] END max_depth=20, max_features=auto, min_samples_leaf=1, min_samples_split=15, n_estimators=700; total time= 2.8min\n",
      "[CV] END max_depth=20, max_features=auto, min_samples_leaf=1, min_samples_split=15, n_estimators=700; total time= 2.7min\n",
      "[CV] END max_depth=20, max_features=auto, min_samples_leaf=1, min_samples_split=15, n_estimators=700; total time= 2.8min\n"
     ]
    },
    {
     "data": {
      "text/plain": [
       "RandomizedSearchCV(cv=5, estimator=RandomForestRegressor(), n_jobs=1,\n",
       "                   param_distributions={'max_depth': [5, 10, 15, 20, 25, 30],\n",
       "                                        'max_features': ['auto', 'sqrt'],\n",
       "                                        'min_samples_leaf': [1, 2, 5, 10],\n",
       "                                        'min_samples_split': [2, 5, 10, 15,\n",
       "                                                              100],\n",
       "                                        'n_estimators': [100, 200, 300, 400,\n",
       "                                                         500, 600, 700, 800,\n",
       "                                                         900, 1000, 1100,\n",
       "                                                         1200]},\n",
       "                   random_state=42, scoring='neg_mean_squared_error',\n",
       "                   verbose=2)"
      ]
     },
     "execution_count": 51,
     "metadata": {},
     "output_type": "execute_result"
    }
   ],
   "source": [
    "rf_random_model.fit(X_train,y_train)"
   ]
  },
  {
   "cell_type": "code",
   "execution_count": 53,
   "id": "1e9fa205",
   "metadata": {},
   "outputs": [
    {
     "data": {
      "text/plain": [
       "{'n_estimators': 700,\n",
       " 'min_samples_split': 15,\n",
       " 'min_samples_leaf': 1,\n",
       " 'max_features': 'auto',\n",
       " 'max_depth': 20}"
      ]
     },
     "execution_count": 53,
     "metadata": {},
     "output_type": "execute_result"
    }
   ],
   "source": [
    "rf_random_model.best_params_"
   ]
  },
  {
   "cell_type": "markdown",
   "id": "a7aed30c",
   "metadata": {},
   "source": [
    "## Feature selection using extra tree regressor"
   ]
  },
  {
   "cell_type": "code",
   "execution_count": 56,
   "id": "69746d64",
   "metadata": {},
   "outputs": [
    {
     "data": {
      "text/plain": [
       "ExtraTreesRegressor()"
      ]
     },
     "execution_count": 56,
     "metadata": {},
     "output_type": "execute_result"
    }
   ],
   "source": [
    "reg= ExtraTreesRegressor()\n",
    "reg.fit(X_train,y_train)\n",
    "ExtraTreesRegressor()"
   ]
  },
  {
   "cell_type": "code",
   "execution_count": 57,
   "id": "792b4de6",
   "metadata": {},
   "outputs": [],
   "source": [
    "feat_importances = pd.Series(reg.feature_importances_, index=X_train.columns)"
   ]
  },
  {
   "cell_type": "code",
   "execution_count": 58,
   "id": "2ba259cd",
   "metadata": {},
   "outputs": [
    {
     "data": {
      "text/plain": [
       "Index(['Airbags', 'Mileage', 'Prod. year', 'ID', 'Gear box type_Tiptronic',\n",
       "       'Leather interior_Yes', 'Levy', 'Manufacturer_HYUNDAI',\n",
       "       'Fuel type_Diesel', 'Fuel type_Hybrid', 'Engine volume', 'Color_White',\n",
       "       'Color_Black', 'Drive wheels_Front', 'Model_FIT', 'Color_Grey',\n",
       "       'Color_Silver', 'Wheel_Right-hand drive', 'Cylinders',\n",
       "       'Manufacturer_SSANGYONG', 'Category_Sedan', 'Gear box type_Variator',\n",
       "       'Manufacturer_TOYOTA', 'Category_Jeep', 'Drive wheels_Rear',\n",
       "       'Fuel type_Petrol', 'Color_Blue', 'Model_Prius', 'Category_Hatchback',\n",
       "       'Manufacturer_LEXUS'],\n",
       "      dtype='object')"
      ]
     },
     "execution_count": 58,
     "metadata": {},
     "output_type": "execute_result"
    }
   ],
   "source": [
    "pd.DataFrame(feat_importances.nlargest(30)).index"
   ]
  },
  {
   "cell_type": "code",
   "execution_count": 59,
   "id": "78154ec1",
   "metadata": {},
   "outputs": [],
   "source": [
    "mod4 = RandomForestRegressor(n_estimators= 1000, max_depth= 25,\n",
    " max_features= 'sqrt',\n",
    " min_samples_leaf=1,                #instantiating the randomforest regressor\n",
    " min_samples_split = 2 )"
   ]
  },
  {
   "cell_type": "code",
   "execution_count": 61,
   "id": "575c9543",
   "metadata": {},
   "outputs": [],
   "source": [
    "X1 = train_data[['Airbags', 'Mileage', 'Prod. year', 'ID', 'Gear box type_Tiptronic',\n",
    "       'Leather interior_Yes', 'Levy', 'Fuel type_Diesel', 'Engine volume',\n",
    "       'Manufacturer_HYUNDAI', 'Fuel type_Hybrid', 'Color_White',\n",
    "       'Color_Black', 'Drive wheels_Front', 'Model_FIT', 'Color_Grey',\n",
    "       'Color_Silver', 'Cylinders', 'Wheel_Right-hand drive', 'Category_Sedan',\n",
    "       'Manufacturer_TOYOTA', 'Category_Jeep', 'Gear box type_Variator',\n",
    "       'Manufacturer_SSANGYONG', 'Fuel type_Petrol', 'Drive wheels_Rear',\n",
    "       'Model_Prius']]\n",
    "y1=y\n",
    "\n",
    "X1_train, X1_test, y1_train, y1_test = train_test_split(X1,y1, test_size=0.3, random_state=10)"
   ]
  },
  {
   "cell_type": "code",
   "execution_count": 62,
   "id": "a1ae0312",
   "metadata": {},
   "outputs": [],
   "source": [
    "model = mod4.fit(X1_train, y1_train) # fitting"
   ]
  },
  {
   "cell_type": "code",
   "execution_count": 63,
   "id": "d4b230f6",
   "metadata": {},
   "outputs": [],
   "source": [
    "y_predict=model.predict(X1_test)  # predicting"
   ]
  },
  {
   "cell_type": "code",
   "execution_count": 64,
   "id": "b3262754",
   "metadata": {},
   "outputs": [],
   "source": [
    "RMLSE=np.sqrt(mean_squared_log_error(np.exp(y1_test),np.exp(y_predict)))\n",
    "# RMLSE score calculation"
   ]
  },
  {
   "cell_type": "code",
   "execution_count": 65,
   "id": "7cf79a2f",
   "metadata": {},
   "outputs": [
    {
     "data": {
      "text/plain": [
       "0.8432499689186337"
      ]
     },
     "execution_count": 65,
     "metadata": {},
     "output_type": "execute_result"
    }
   ],
   "source": [
    "RMLSE"
   ]
  },
  {
   "cell_type": "markdown",
   "id": "5b2b5193",
   "metadata": {},
   "source": [
    "## Finding best features using random forest regressor"
   ]
  },
  {
   "cell_type": "code",
   "execution_count": 66,
   "id": "cabb4ca6",
   "metadata": {},
   "outputs": [],
   "source": [
    "mod3 = RandomForestRegressor(n_estimators= 1000, max_depth= 25,\n",
    " max_features= 'sqrt',\n",
    " min_samples_leaf=1,\n",
    " min_samples_split = 2\n",
    " )"
   ]
  },
  {
   "cell_type": "code",
   "execution_count": 67,
   "id": "c935f485",
   "metadata": {},
   "outputs": [],
   "source": [
    "model_random = mod3.fit(X_train, y_train)"
   ]
  },
  {
   "cell_type": "code",
   "execution_count": 68,
   "id": "51cb1328",
   "metadata": {},
   "outputs": [],
   "source": [
    "feat_importances = pd.Series(model_random.feature_importances_, index=X_train.columns)"
   ]
  },
  {
   "cell_type": "code",
   "execution_count": 69,
   "id": "18db283d",
   "metadata": {},
   "outputs": [
    {
     "data": {
      "text/plain": [
       "Index(['Mileage', 'ID', 'Airbags', 'Prod. year', 'Levy',\n",
       "       'Gear box type_Tiptronic', 'Engine volume', 'Fuel type_Hybrid',\n",
       "       'Leather interior_Yes', 'Fuel type_Diesel', 'Cylinders',\n",
       "       'Manufacturer_HYUNDAI', 'Fuel type_Petrol', 'Color_White',\n",
       "       'Drive wheels_Front', 'Color_Black', 'Category_Sedan', 'Color_Grey',\n",
       "       'Category_Jeep', 'Color_Silver', 'Wheel_Right-hand drive',\n",
       "       'Category_Hatchback', 'Model_Santa FE', 'Gear box type_Variator',\n",
       "       'Model_FIT', 'Manufacturer_SSANGYONG', 'Manufacturer_TOYOTA',\n",
       "       'Drive wheels_Rear', 'Color_Blue', 'Model_H1', 'Model_E 350',\n",
       "       'Model_Prius', 'Manufacturer_HONDA', 'Gear box type_Manual',\n",
       "       'Manufacturer_LEXUS', 'Model_Tucson', 'Manufacturer_MERCEDES-BENZ',\n",
       "       'Fuel type_LPG', 'Manufacturer_BMW', 'Model_Camry', 'Model_Escape',\n",
       "       'Model_Actyon', 'Doors_04', 'Model_Sonata', 'Category_Minivan',\n",
       "       'Model_ML 350', 'Model_RX 450', 'Manufacturer_NISSAN', 'Color_Red',\n",
       "       'Model_Insight'],\n",
       "      dtype='object')"
      ]
     },
     "execution_count": 69,
     "metadata": {},
     "output_type": "execute_result"
    }
   ],
   "source": [
    "pd.DataFrame(feat_importances.nlargest(50)).index"
   ]
  },
  {
   "cell_type": "code",
   "execution_count": 70,
   "id": "ae7fd78e",
   "metadata": {},
   "outputs": [],
   "source": [
    "X2=train_data[['Airbags', 'Mileage', 'Prod. year', 'ID', 'Gear box type_Tiptronic',\n",
    "       'Leather interior_Yes', 'Levy', 'Fuel type_Diesel', 'Engine volume',\n",
    "       'Manufacturer_HYUNDAI', 'Fuel type_Hybrid', 'Color_White',\n",
    "       'Color_Black', 'Drive wheels_Front', 'Model_FIT', 'Color_Grey',\n",
    "       'Color_Silver', 'Cylinders', 'Wheel_Right-hand drive', 'Category_Sedan',\n",
    "       'Manufacturer_TOYOTA', 'Category_Jeep', 'Gear box type_Variator',\n",
    "       'Manufacturer_SSANGYONG', 'Fuel type_Petrol', 'Drive wheels_Rear',\n",
    "       'Model_Prius', 'Color_Blue', 'Category_Hatchback']]\n",
    "Y2=y\n",
    "\n",
    "X2_train, X2_test, y2_train, y2_test = train_test_split(X2,Y2, test_size=0.3, random_state=10)"
   ]
  },
  {
   "cell_type": "code",
   "execution_count": 71,
   "id": "eb26e686",
   "metadata": {},
   "outputs": [],
   "source": [
    "model1 = mod4.fit(X2_train, y2_train)"
   ]
  },
  {
   "cell_type": "code",
   "execution_count": 72,
   "id": "d3272360",
   "metadata": {},
   "outputs": [],
   "source": [
    "y_pred=model1.predict(X2_test)"
   ]
  },
  {
   "cell_type": "code",
   "execution_count": 73,
   "id": "663e3892",
   "metadata": {},
   "outputs": [],
   "source": [
    "RMLSE1=np.sqrt(mean_squared_log_error(np.exp(y2_test),np.exp(y_pred)))"
   ]
  },
  {
   "cell_type": "code",
   "execution_count": 74,
   "id": "649bd2ff",
   "metadata": {},
   "outputs": [
    {
     "data": {
      "text/plain": [
       "0.843445766884728"
      ]
     },
     "execution_count": 74,
     "metadata": {},
     "output_type": "execute_result"
    }
   ],
   "source": [
    "RMLSE1"
   ]
  }
 ],
 "metadata": {
  "kernelspec": {
   "display_name": "Python 3 (ipykernel)",
   "language": "python",
   "name": "python3"
  },
  "language_info": {
   "codemirror_mode": {
    "name": "ipython",
    "version": 3
   },
   "file_extension": ".py",
   "mimetype": "text/x-python",
   "name": "python",
   "nbconvert_exporter": "python",
   "pygments_lexer": "ipython3",
   "version": "3.9.13"
  }
 },
 "nbformat": 4,
 "nbformat_minor": 5
}
