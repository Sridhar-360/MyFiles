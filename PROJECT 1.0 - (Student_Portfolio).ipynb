{
 "cells": [
  {
   "cell_type": "markdown",
   "id": "3f31ca11",
   "metadata": {},
   "source": [
    "# STUDENT PORTFOLIO"
   ]
  },
  {
   "cell_type": "markdown",
   "id": "8019cbd3",
   "metadata": {},
   "source": [
    "***STUDENT DETAILS***"
   ]
  },
  {
   "cell_type": "code",
   "execution_count": 1,
   "id": "a14efe57",
   "metadata": {},
   "outputs": [
    {
     "name": "stdout",
     "output_type": "stream",
     "text": [
      "First Name: Sridhar\n",
      "Last Name: G\n",
      "Student_Id: 1\n",
      "Enter a class between 1 and 12: 10\n",
      "Enter a Division between A and E: A\n",
      "Enter Mathematics score: 100\n",
      "Enter Statistics score: 95\n",
      "Enter Finance score: 98\n"
     ]
    }
   ],
   "source": [
    "# First_Name:\n",
    "\n",
    "while True:\n",
    "    First_Name = input('First Name: ')\n",
    "\n",
    "    if len(First_Name) <= 12 and First_Name.isalpha():\n",
    "        break\n",
    "\n",
    "    else:\n",
    "        print('Enter only letters & below 12 characters')\n",
    "        continue\n",
    "        \n",
    "# Last_Name:\n",
    "\n",
    "while True:\n",
    "    Last_Name = input('Last Name: ')\n",
    "\n",
    "    if len(Last_Name) <= 12 and Last_Name.isalpha():\n",
    "        break\n",
    "\n",
    "    else:\n",
    "        print('Enter only letters & below 12 characters')\n",
    "        continue\n",
    "\n",
    "# Student_Id:\n",
    "\n",
    "while True:\n",
    "    Student_Id = input('Student_Id: ')\n",
    "\n",
    "    if len(Student_Id) <= 9 and Student_Id.isalnum():\n",
    "        break\n",
    "\n",
    "    else:\n",
    "        print('Enter below 9 characters')\n",
    "        continue        \n",
    "\n",
    "# Standard:\n",
    "\n",
    "while True:\n",
    "    try:\n",
    "        standard = int(input('Enter a class between 1 and 12: '))\n",
    "        \n",
    "        if standard < 1 or standard > 12:\n",
    "            raise ValueError\n",
    "\n",
    "        break\n",
    "    except ValueError:\n",
    "        print('Please enter a class between 1 and 12.')\n",
    "        \n",
    "# Division:\n",
    "\n",
    "while True:\n",
    "    Division = input('Enter a Division between A and E: ')\n",
    "\n",
    "    if len(Division) == 1 and Division.isalpha():\n",
    "        break\n",
    "\n",
    "    else:\n",
    "        print('Enter a Division between A and E')\n",
    "        continue\n",
    "\n",
    "        \n",
    "# Math_score:\n",
    "\n",
    "while True:\n",
    "    try:\n",
    "        Math_score = float(input('Enter Mathematics score: '))\n",
    "        \n",
    "        if Math_score < 1 or Math_score > 100:\n",
    "            raise ValueError\n",
    "\n",
    "        break\n",
    "    except ValueError:\n",
    "        print('score should not be above 100.')\n",
    "\n",
    "# stat_score:\n",
    "\n",
    "while True:\n",
    "    try:\n",
    "        stat_score = float(input('Enter Statistics score: '))\n",
    "        \n",
    "        if stat_score < 1 or stat_score > 100:\n",
    "            raise ValueError\n",
    "\n",
    "        break\n",
    "    except ValueError:\n",
    "        print('score should not be above 100.')\n",
    "\n",
    "# Fin_score:\n",
    "\n",
    "while True:\n",
    "    try:\n",
    "        Fin_score = float(input('Enter Finance score: '))\n",
    "        \n",
    "        if Fin_score < 1 or Fin_score > 100:\n",
    "            raise ValueError\n",
    "\n",
    "        break\n",
    "    except ValueError:\n",
    "        print('score should not be above 100.')"
   ]
  },
  {
   "cell_type": "markdown",
   "id": "023d0c39",
   "metadata": {},
   "source": [
    "***STUDENT_REPORT***"
   ]
  },
  {
   "cell_type": "code",
   "execution_count": 2,
   "id": "a33135d0",
   "metadata": {},
   "outputs": [
    {
     "name": "stdout",
     "output_type": "stream",
     "text": [
      "Student_Name: Sridhar G \n",
      " Student_Id: 1 \n",
      " standard: 10 \n",
      " Division: A \n",
      " Math_score: 100.0 \n",
      " stat_score: 95.0 \n",
      " Fin_score: 98.0 \n",
      " Total_Percentage: 97.66666666666667\n"
     ]
    }
   ],
   "source": [
    "\n",
    "print(\"Student_Name:\" , First_Name , Last_Name , '\\n' ,\n",
    "      \"Student_Id:\" , Student_Id , '\\n' ,\n",
    "      \"standard:\" , standard , '\\n' ,\n",
    "      \"Division:\" , Division , '\\n' ,\n",
    "      \"Math_score:\" , Math_score , '\\n' ,\n",
    "      \"stat_score:\" , stat_score , '\\n' ,\n",
    "      \"Fin_score:\" , Fin_score , '\\n' ,\n",
    "      \"Total_Percentage:\" , (Math_score + stat_score + Fin_score)/3)"
   ]
  }
 ],
 "metadata": {
  "kernelspec": {
   "display_name": "Python 3 (ipykernel)",
   "language": "python",
   "name": "python3"
  },
  "language_info": {
   "codemirror_mode": {
    "name": "ipython",
    "version": 3
   },
   "file_extension": ".py",
   "mimetype": "text/x-python",
   "name": "python",
   "nbconvert_exporter": "python",
   "pygments_lexer": "ipython3",
   "version": "3.9.13"
  }
 },
 "nbformat": 4,
 "nbformat_minor": 5
}
