{
 "cells": [
  {
   "cell_type": "markdown",
   "id": "4c943fc8",
   "metadata": {},
   "source": [
    "# Rock, Paper & Scissors"
   ]
  },
  {
   "cell_type": "code",
   "execution_count": 1,
   "id": "e8846de9",
   "metadata": {},
   "outputs": [],
   "source": [
    "def determine_winner(user_action, opponent_action):\n",
    "    if user_action == opponent:\n",
    "        print(f\"Both players selected {user_action}. It's a tie!\")\n",
    "    elif user_action == \"rock\":\n",
    "        if opponent == \"scissors\":\n",
    "            print(\"Rock smashes scissors! You win!\")\n",
    "        else:\n",
    "            print(\"Paper covers rock! You lose.\")\n",
    "    elif user_action == \"paper\":\n",
    "        if opponent == \"rock\":\n",
    "            print(\"Paper covers rock! You win!\")\n",
    "        else:\n",
    "            print(\"Scissors cuts paper! You lose.\")\n",
    "    elif user_action == \"scissors\":\n",
    "        if opponent == \"paper\":\n",
    "            print(\"Scissors cuts paper! You win!\")\n",
    "        else:\n",
    "            print(\"Rock smashes scissors! You lose.\")"
   ]
  },
  {
   "cell_type": "code",
   "execution_count": 7,
   "id": "c187ad5d",
   "metadata": {},
   "outputs": [
    {
     "name": "stdout",
     "output_type": "stream",
     "text": [
      "Welcome to ROCK PAPER SCISSOR\n",
      "choose opponent player or computercomputer\n",
      "Enter a choice (rock, paper, scissors): rock\n",
      "\n",
      "You chose rock, computer chose paper.\n",
      "\n",
      "Paper covers rock! You lose.\n",
      "Play again? (y/n): y\n",
      "Enter a choice (rock, paper, scissors): rock\n",
      "\n",
      "You chose rock, computer chose rock.\n",
      "\n",
      "Both players selected rock. It's a tie!\n",
      "Play again? (y/n): n\n"
     ]
    }
   ],
   "source": [
    "import random\n",
    "print(\"Welcome to ROCK PAPER SCISSOR\")\n",
    "mode = input(\"choose opponent player or computer\")\n",
    "\n",
    "if mode == \"player\":\n",
    "    while True:\n",
    "        player_1 = input(\"player_1 Enter a choice (rock, paper, scissors): \")\n",
    "        opponent = input(\"Player_2 Enter a choice (rock, paper, scissors): \")\n",
    "        print(f\"\\nYou chose {player_1}, opponent chose {opponent}.\\n\")\n",
    "        determine_winner(player_1, opponent)\n",
    "        \n",
    "\n",
    "        play_again = input(\"Play again? (y/n): \")\n",
    "        if play_again.lower() != \"y\":\n",
    "            break        \n",
    "\n",
    "elif mode == \"computer\":\n",
    "    while True:\n",
    "        user_action = input(\"Enter a choice (rock, paper, scissors): \")\n",
    "        possible_actions = [\"rock\", \"paper\", \"scissors\"]\n",
    "        opponent = random.choice(possible_actions)       \n",
    "        print(f\"\\nYou chose {user_action}, computer chose {opponent}.\\n\")\n",
    "        determine_winner(user_action, opponent)\n",
    "        play_again = input(\"Play again? (y/n): \")\n",
    "        if play_again.lower() != \"y\":\n",
    "            break\n",
    "        \n",
    "        "
   ]
  }
 ],
 "metadata": {
  "kernelspec": {
   "display_name": "Python 3 (ipykernel)",
   "language": "python",
   "name": "python3"
  },
  "language_info": {
   "codemirror_mode": {
    "name": "ipython",
    "version": 3
   },
   "file_extension": ".py",
   "mimetype": "text/x-python",
   "name": "python",
   "nbconvert_exporter": "python",
   "pygments_lexer": "ipython3",
   "version": "3.9.13"
  }
 },
 "nbformat": 4,
 "nbformat_minor": 5
}
