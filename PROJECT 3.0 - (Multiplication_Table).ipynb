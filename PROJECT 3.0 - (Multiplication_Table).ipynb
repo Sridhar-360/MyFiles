{
 "cells": [
  {
   "cell_type": "markdown",
   "id": "fcd50c09",
   "metadata": {},
   "source": [
    "# Multiplication_Table"
   ]
  },
  {
   "cell_type": "code",
   "execution_count": 2,
   "id": "40c5fb5f",
   "metadata": {},
   "outputs": [
    {
     "name": "stdout",
     "output_type": "stream",
     "text": [
      " what table do you want?5\n",
      " how many multiplications do you want?9\n",
      "5  x  1  =  5\n",
      "5  x  2  =  10\n",
      "5  x  3  =  15\n",
      "5  x  4  =  20\n",
      "5  x  5  =  25\n",
      "5  x  6  =  30\n",
      "5  x  7  =  35\n",
      "5  x  8  =  40\n",
      "5  x  9  =  45\n"
     ]
    }
   ],
   "source": [
    "number = int(input(\" what table do you want?\"))\n",
    "multiple = int(input (\" how many multiplications do you want?\"))\n",
    "i = 1\n",
    "while (i>=1):\n",
    "    if i == multiple+1:\n",
    "        break\n",
    "    else:\n",
    "        print(number,\" x \", i, \" = \", number*i)\n",
    "        i=i+1\n",
    "        continue\n",
    "        "
   ]
  }
 ],
 "metadata": {
  "kernelspec": {
   "display_name": "Python 3 (ipykernel)",
   "language": "python",
   "name": "python3"
  },
  "language_info": {
   "codemirror_mode": {
    "name": "ipython",
    "version": 3
   },
   "file_extension": ".py",
   "mimetype": "text/x-python",
   "name": "python",
   "nbconvert_exporter": "python",
   "pygments_lexer": "ipython3",
   "version": "3.9.13"
  }
 },
 "nbformat": 4,
 "nbformat_minor": 5
}
